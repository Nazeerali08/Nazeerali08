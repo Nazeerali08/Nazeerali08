{
 "cells": [
  {
   "cell_type": "code",
   "execution_count": 1,
   "metadata": {},
   "outputs": [],
   "source": [
    "import pandas as pd"
   ]
  },
  {
   "cell_type": "code",
   "execution_count": 2,
   "metadata": {},
   "outputs": [],
   "source": [
    "import mysql.connector as db"
   ]
  },
  {
   "cell_type": "code",
   "execution_count": 3,
   "metadata": {},
   "outputs": [],
   "source": [
    "from faker import Faker"
   ]
  },
  {
   "cell_type": "code",
   "execution_count": 4,
   "metadata": {},
   "outputs": [],
   "source": [
    "import random"
   ]
  },
  {
   "cell_type": "code",
   "execution_count": 5,
   "metadata": {},
   "outputs": [],
   "source": [
    "fake = Faker()"
   ]
  },
  {
   "cell_type": "code",
   "execution_count": 6,
   "metadata": {},
   "outputs": [],
   "source": [
    "from datetime import datetime,timedelta"
   ]
  },
  {
   "cell_type": "code",
   "execution_count": 7,
   "metadata": {},
   "outputs": [],
   "source": [
    "conn = db.connect(\n",
    "    host=\"localhost\",\n",
    "    user=\"root\",\n",
    "    password=\"@Inshaallah8\",\n",
    "    database=\"zomato\"\n",
    ")"
   ]
  },
  {
   "cell_type": "code",
   "execution_count": 8,
   "metadata": {},
   "outputs": [],
   "source": [
    "cursor = conn.cursor()"
   ]
  },
  {
   "cell_type": "code",
   "execution_count": 9,
   "metadata": {},
   "outputs": [],
   "source": [
    "table = \"\"\"\n",
    "CREATE TABLE customers\n",
    "(\n",
    "customer_id int primary key AUTO_INCREMENT,\n",
    "name varchar(100),\n",
    "email text,\n",
    "phone varchar(50),\n",
    "location text,\n",
    "signup_date date,\n",
    "is_premium boolean,\n",
    "preferred_cuisine text,\n",
    "total_orders int,\n",
    "average_rating float\n",
    "\n",
    ");\n",
    "\n",
    "\"\"\"\n",
    "cursor.execute(table)"
   ]
  },
  {
   "cell_type": "code",
   "execution_count": 10,
   "metadata": {},
   "outputs": [
    {
     "name": "stdout",
     "output_type": "stream",
     "text": [
      "Successfully generated 100 customer records!\n"
     ]
    }
   ],
   "source": [
    "def generate_customers(num_records):\n",
    "    cuisines = ['Italian', 'Chinese', 'Indian', 'Mexican', 'Japanese', 'Thai', 'American']\n",
    "    locations = ['New York', 'Los Angeles', 'Chicago', 'Houston', 'Phoenix', 'Philadelphia']\n",
    "    \n",
    "    for _ in range(num_records):\n",
    "        # Generate customer data\n",
    "        name = fake.name()\n",
    "        email = fake.email()\n",
    "        phone = fake.phone_number()\n",
    "        location = random.choice(locations)\n",
    "        signup_date = fake.date_between(start_date='-2y', end_date='today')\n",
    "        is_premium = random.choice([0, 1])\n",
    "        preferred_cuisine = random.choice(cuisines)\n",
    "        total_orders = random.randint(1, 500)\n",
    "        average_rating = round(random.uniform(1.0, 5.0), 1)\n",
    "\n",
    "        # Execute INSERT statement\n",
    "        cursor.execute('''\n",
    "            INSERT INTO customers \n",
    "            (name, email, phone, location, signup_date, is_premium, preferred_cuisine, total_orders, average_rating)\n",
    "            VALUES \n",
    "            (%s, %s, %s, %s, %s, %s, %s, %s, %s)\n",
    "        ''', (name, email, phone, location, signup_date, is_premium, preferred_cuisine, total_orders, average_rating))\n",
    "\n",
    "try:\n",
    "    # Generate 100 sample records\n",
    "    generate_customers(100)\n",
    "    \n",
    "    # Commit the changes\n",
    "    conn.commit()\n",
    "    print(\"Successfully generated 100 customer records!\")\n",
    "\n",
    "except Exception as e:\n",
    "    print(f\"An error occurred: {e}\")\n",
    "    conn.rollback()\n",
    "\n"
   ]
  },
  {
   "cell_type": "code",
   "execution_count": 11,
   "metadata": {},
   "outputs": [],
   "source": [
    "# Create restaurant table\n",
    "cursor.execute('''\n",
    "CREATE TABLE Restaurants (\n",
    "    restaurant_id INT PRIMARY KEY AUTO_INCREMENT,\n",
    "    name VARCHAR(255),\n",
    "    cuisine_type VARCHAR(50),\n",
    "    location VARCHAR(255),\n",
    "    owner_name VARCHAR(255),\n",
    "    average_delivery_time INT,\n",
    "    contact_number VARCHAR(40),\n",
    "    rating float,\n",
    "    total_orders int,\n",
    "    is_active boolean\n",
    "\n",
    "    \n",
    ")\n",
    "''')\n"
   ]
  },
  {
   "cell_type": "code",
   "execution_count": 12,
   "metadata": {},
   "outputs": [
    {
     "name": "stdout",
     "output_type": "stream",
     "text": [
      "Restaurants dataset created successfully!\n"
     ]
    }
   ],
   "source": [
    "# Generate synthetic Restaurants data\n",
    "def generate_Restaurants(num_records):\n",
    "    cuisines = ['Italian', 'Chinese', 'Indian', 'Mexican', 'Japanese', 'Mediterranean']\n",
    "    for _ in range(num_records):\n",
    "        name = fake.name()\n",
    "        cuisine_type = random.choice(cuisines)\n",
    "        location = fake.address().replace(\"\\n\", \", \")\n",
    "        owner_name = fake.name()\n",
    "        average_delivery_time = random.randint(10, 60)\n",
    "        contact_number = fake.phone_number()\n",
    "        rating = round(random.uniform(1.0, 5.0), 1)\n",
    "        total_orders = random.randint(1, 500)\n",
    "        is_active = random.choice([True, False])\n",
    "\n",
    "        cursor.execute('''\n",
    "        INSERT INTO Restaurants (name, cuisine_type, location, owner_name, average_delivery_time, contact_number, rating, total_orders, is_active)\n",
    "        VALUES (%s, %s, %s, %s, %s, %s, %s, %s, %s) ''', (name, cuisine_type, location, owner_name, average_delivery_time, contact_number, rating, total_orders, is_active))\n",
    "        \n",
    "\n",
    "        \n",
    "\n",
    "# Generate 100 sample records\n",
    "generate_Restaurants(100)\n",
    "\n",
    "# Commit the changes    \n",
    "\n",
    "conn.commit()\n",
    "\n",
    "print(\"Restaurants dataset created successfully!\")"
   ]
  },
  {
   "cell_type": "code",
   "execution_count": 13,
   "metadata": {},
   "outputs": [],
   "source": [
    "# creating orders table\n",
    "\n",
    "cursor.execute ('''\n",
    "CREATE TABLE ORDERS (\n",
    "                order_id INT PRIMARY KEY AUTO_INCREMENT,\n",
    "                customer_id int,\n",
    "                restaurant_id int,\n",
    "                order_date datetime,\n",
    "                delivery_time datetime,\n",
    "                status varchar(50),\n",
    "                total_amount decimal(10,2),\n",
    "                payment_mode varchar(50),\n",
    "                discount_applied decimal(10,2),\n",
    "                feedback_rating int,\n",
    "                FOREIGN KEY (customer_id) REFERENCES customers(customer_id),\n",
    "                FOREIGN KEY (restaurant_id) REFERENCES Restaurants(restaurant_id)\n",
    "                );\n",
    "''')\n"
   ]
  },
  {
   "cell_type": "code",
   "execution_count": 14,
   "metadata": {},
   "outputs": [
    {
     "name": "stdout",
     "output_type": "stream",
     "text": [
      "Successfully generated 100 order records!\n"
     ]
    }
   ],
   "source": [
    "def generate_orders(num_records):\n",
    "    statuses = ['Pending', 'Delivered', 'Cancelled']\n",
    "    payment_modes = ['Credit Card', 'Cash', 'UPI']\n",
    "    for _ in range(num_records):\n",
    "        # Generate order data\n",
    "        customer_id = random.randint(1,100)\n",
    "        restaurant_id = random.randint(1,100)\n",
    "        order_date = fake.date_between(start_date = \"-2y\",end_date = \"today\")\n",
    "        delivery_time = order_date + timedelta(days = random.randint(1,7))\n",
    "        status = random.choice(statuses)\n",
    "        total_amount = round(random.uniform(10.0, 1000.0), 2)\n",
    "        payment_mode = random.choice(payment_modes)\n",
    "        discount_applied = round(random.uniform(0.0, total_amount), 2)\n",
    "        feedback_rating = random.randint(1,5)\n",
    "\n",
    "        # Execute INSERT statement\n",
    "        cursor.execute('''\n",
    "            INSERT INTO ORDERS \n",
    "            (customer_id, restaurant_id, order_date, delivery_time, status, total_amount, payment_mode, discount_applied, feedback_rating)\n",
    "            VALUES \n",
    "            (%s, %s, %s, %s, %s, %s, %s, %s, %s)\n",
    "        ''', (customer_id, restaurant_id, order_date, delivery_time, status, total_amount, payment_mode, discount_applied, feedback_rating))\n",
    "\n",
    "try:\n",
    "    # Generate 100 sample records\n",
    "    generate_orders(100)    \n",
    "    # Commit the changes\n",
    "    conn.commit()\n",
    "    print(\"Successfully generated 100 order records!\")\n",
    "\n",
    "except Exception as e:\n",
    "    print(f\"An error occurred: {e}\")\n",
    "    conn.rollback()\n"
   ]
  },
  {
   "cell_type": "code",
   "execution_count": 15,
   "metadata": {},
   "outputs": [],
   "source": [
    "# creating Deliveries Table\n",
    "\n",
    "cursor.execute('''\n",
    "CREATE TABLE Deliveries (\n",
    "               delivery_id INT PRIMARY KEY AUTO_INCREMENT,\n",
    "               order_id int,\n",
    "               delivery_person_id int,\n",
    "               delivery_status varchar(50),\n",
    "               distance decimal(10,2),\n",
    "               delivery_time datetime,\n",
    "               estimated_time datetime,\n",
    "               delivery_fee decimal(10,2),\n",
    "               vechile_type varchar(50),\n",
    "               FOREIGN KEY (order_id) REFERENCES ORDERS(order_id)\n",
    "               #FOREIGN KEY (delivery_person_id) REFERENCES delivery_persons(delivery_person_id)\n",
    "               )\n",
    "''')\n",
    "\n"
   ]
  },
  {
   "cell_type": "code",
   "execution_count": 16,
   "metadata": {},
   "outputs": [
    {
     "name": "stdout",
     "output_type": "stream",
     "text": [
      "Successfully generated 100 delivery records!\n"
     ]
    }
   ],
   "source": [
    "def generate_deliveries(num_records):\n",
    "    delivery_statuses = ['On the way', 'Delivered']\n",
    "    vehicle_types = ['Bike', 'Car']\n",
    "    for _ in range(num_records):\n",
    "        # Generate delivery data\n",
    "        order_id = random.randint(1,100)\n",
    "        delivery_person_id = random.randint(1,100)\n",
    "        delivery_status = random.choice(delivery_statuses)\n",
    "        distance = round(random.uniform(0.0, 100.0), 2)\n",
    "        delivery_time = fake.date_between(start_date = \"-2y\",end_date = \"today\")\n",
    "        estimated_time = delivery_time + timedelta(days = random.randint(1,7))\n",
    "        delivery_fee = round(random.uniform(0.0, 100.0), 2)\n",
    "        vehicle_type = random.choice(vehicle_types)\n",
    "\n",
    "        # Execute INSERT statement\n",
    "        cursor.execute('''\n",
    "            INSERT INTO Deliveries \n",
    "            (order_id, delivery_person_id, delivery_status, distance, delivery_time, estimated_time, delivery_fee, vechile_type)\n",
    "            VALUES \n",
    "            (%s, %s, %s, %s, %s, %s, %s, %s)\n",
    "        ''', (order_id, delivery_person_id, delivery_status, distance, delivery_time, estimated_time, delivery_fee, vehicle_type))\n",
    "\n",
    "try:\n",
    "    # Generate 100 sample records\n",
    "    generate_deliveries(100)    \n",
    "    # Commit the changes    \n",
    "    conn.commit()    \n",
    "    print(\"Successfully generated 100 delivery records!\")\n",
    "\n",
    "except Exception as e:\n",
    "    print(f\"An error occurred: {e}\")\n",
    "    conn.rollback() \n"
   ]
  },
  {
   "cell_type": "code",
   "execution_count": 17,
   "metadata": {},
   "outputs": [],
   "source": [
    "# creating delivery_persons table\n",
    "\n",
    "cursor.execute('''\n",
    "CREATE TABLE delivery_persons (\n",
    "               delivery_person_id INT PRIMARY KEY AUTO_INCREMENT,\n",
    "               name varchar(50),\n",
    "               contact_number varchar(40),\n",
    "               vehicle_type varchar(50),\n",
    "               total_deliveries int,\n",
    "               average_rating float,\n",
    "               location varchar(255)\n",
    "               )\n",
    "''')"
   ]
  },
  {
   "cell_type": "code",
   "execution_count": 18,
   "metadata": {},
   "outputs": [
    {
     "name": "stdout",
     "output_type": "stream",
     "text": [
      "Successfully generated 100 delivery person records!\n"
     ]
    }
   ],
   "source": [
    "def generate_delivery_persons(num_records):\n",
    "    vehicle_types = ['Bike', 'Car']\n",
    "    for _ in range(num_records):\n",
    "        # Generate delivery person data\n",
    "        name = fake.name()\n",
    "        contact_number = fake.phone_number()\n",
    "        vehicle_type = random.choice(vehicle_types)\n",
    "        total_deliveries = random.randint(1, 100)\n",
    "        average_rating = round(random.uniform(1.0, 5.0), 1)\n",
    "        location = fake.address().replace(\"\\n\", \", \")\n",
    "\n",
    "        # Execute INSERT statement\n",
    "        cursor.execute('''\n",
    "            INSERT INTO delivery_persons \n",
    "            (name, contact_number, vehicle_type, total_deliveries, average_rating, location)\n",
    "            VALUES \n",
    "            (%s, %s, %s, %s, %s, %s)\n",
    "        ''', (name, contact_number, vehicle_type, total_deliveries, average_rating, location))\n",
    "\n",
    "try:\n",
    "    # Generate 100 sample records\n",
    "    generate_delivery_persons(100)    \n",
    "    # Commit the changes    \n",
    "    conn.commit()    \n",
    "    print(\"Successfully generated 100 delivery person records!\")\n",
    "\n",
    "except Exception as e:\n",
    "    print(f\"An error occurred: {e}\")\n",
    "    conn.rollback() \n",
    "\n",
    "finally:    \n",
    "    # Close the connection       \n",
    "    cursor.close()    \n",
    "    conn.close()"
   ]
  },
  {
   "cell_type": "code",
   "execution_count": null,
   "metadata": {},
   "outputs": [],
   "source": []
  }
 ],
 "metadata": {
  "kernelspec": {
   "display_name": "base",
   "language": "python",
   "name": "python3"
  },
  "language_info": {
   "codemirror_mode": {
    "name": "ipython",
    "version": 3
   },
   "file_extension": ".py",
   "mimetype": "text/x-python",
   "name": "python",
   "nbconvert_exporter": "python",
   "pygments_lexer": "ipython3",
   "version": "3.12.7"
  }
 },
 "nbformat": 4,
 "nbformat_minor": 2
}
